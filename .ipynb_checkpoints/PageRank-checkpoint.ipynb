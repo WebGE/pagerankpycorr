{
 "cells": [
  {
   "cell_type": "code",
   "execution_count": null,
   "metadata": {},
   "outputs": [],
   "source": [
    "## Popularité d'une page Web - Simulation"
   ]
  },
  {
   "cell_type": "markdown",
   "metadata": {},
   "source": [
    "**Sources** : Livre SNT Hatier et Bordas\n",
    "\n",
    "### Présentation\n",
    "*La principale difficulté des moteurs de recherche consiste à classer, de la manière la plus pertinante possible, l'ensemble des pages contenant les mots clés demandés, pour choisir quelles pages présenter en premier. En 1998, les informaticiens américains Larry Page et Sergey Brin proposent l'algorithme de **PageRank** qui a conduit à la création du moteur de recherche Google et permis de proposer une définition à l'idée de \"popularité\" d'une page.*\n",
    "\n",
    "*L'**algorithme PageRank** repose sur le principe de calculer la popularité d'une page à partir de la popularité des page qui la citent.*"
   ]
  },
  {
   "cell_type": "markdown",
   "metadata": {},
   "source": [
    "### Enoncé\n",
    "\n",
    "*Six pages Web nommées de A à F comportent des liens hypertextes formant une toile selon le schéma suivant :*\n",
    "\n",
    "![](graphe.jpg)\n",
    "\n",
    "Des internautes arrivent par hasard sur la page A. Ils suivent de manière aléatoire les liens proposés par chaque page, augmentant ainsi le compteur de vue de chacune. \n",
    "\n",
    "**Quelle sera la page la plus populaire après le passage de n internautes ?**\n",
    "\n",
    "On propose le code ci-dessous comme point de départ du problème à résoudre : "
   ]
  },
  {
   "cell_type": "markdown",
   "metadata": {},
   "source": [
    "----\n",
    "\n",
    "### Etude du programme"
   ]
  },
  {
   "cell_type": "code",
   "execution_count": null,
   "metadata": {},
   "outputs": [],
   "source": [
    "from random import choice\n",
    "\n",
    "# Partie déclarative\n",
    "# -------------------------------------------------\n",
    "# Liste des pages\n",
    "nom = [\"A\", \"B\", \"C\", \"D\", \"E\", \"F\"]\n",
    "# Nombre de déplacements effectués s dans le graphe\n",
    "nbDeplacements = 10 \n",
    "# le depart est la page A (indice 0)\n",
    "page = 0"
   ]
  },
  {
   "cell_type": "markdown",
   "metadata": {},
   "source": [
    "Les flèches sur le graphe (sous-listes dans la liste hyperliens) représentent les déplacements\n",
    "possibles à partir de chacune des pages.\n",
    "    \n",
    "**1. Modifier** la liste *hyperliens* pour qu'elle corresponde au graphe. "
   ]
  },
  {
   "cell_type": "code",
   "execution_count": null,
   "metadata": {},
   "outputs": [],
   "source": [
    "# Exemple : la page C à la position nom[2] est reliée\n",
    "# aux pages A, nom[0] et F, nom[5] d'où la sous liste [0,5]\n",
    "# hyperliens = [[4], [0, 4], [0, 5],[?],[?],[?]] # A compléter\n",
    "hyperliens = [[4], [0, 4], [0, 5], [0, 4], [1, 2, 3, 5], [4]]"
   ]
  },
  {
   "cell_type": "markdown",
   "metadata": {},
   "source": [
    "La partie exécutive s'exécute dans une boucle pour."
   ]
  },
  {
   "cell_type": "code",
   "execution_count": null,
   "metadata": {},
   "outputs": [],
   "source": [
    "# Partie exécutive\n",
    "# ------------------------------------------\n",
    "for i in range(nbDeplacements):\n",
    "    page = choice(hyperliens[page])\n",
    "    print(\"Page actuelle : \" + nom[page])"
   ]
  },
  {
   "cell_type": "raw",
   "metadata": {},
   "source": [
    "**2. Expliquer** ce que fait le code dans la boucle for. Quelle est l'utilité de la méthode *choice* dans ce programme.\n",
    "\n",
    "*Aide* : on pourra exécuter la boucle for \"à la main\" pour faire apparaître l'évolution des variables dans le tableau ci-dessous (à recopier au brouillon).\n",
    "\n",
    "!(aide.jpg)"
   ]
  },
  {
   "cell_type": "raw",
   "metadata": {},
   "source": [
    "Réponse : le code de la boucle for affiche la page sur laquelle a eu lieu le déplacement. Dans ce programme *choice* choisit un lien parmi ceux disponible sur une page."
   ]
  },
  {
   "cell_type": "code",
   "execution_count": 1,
   "metadata": {},
   "outputs": [
    {
     "ename": "SyntaxError",
     "evalue": "invalid syntax (<ipython-input-1-25e7cc325f4e>, line 1)",
     "output_type": "error",
     "traceback": [
      "\u001b[1;36m  File \u001b[1;32m\"<ipython-input-1-25e7cc325f4e>\"\u001b[1;36m, line \u001b[1;32m1\u001b[0m\n\u001b[1;33m    Faire plusieurs simulations. Expliquer ce qu'affiche le programme.\u001b[0m\n\u001b[1;37m                  ^\u001b[0m\n\u001b[1;31mSyntaxError\u001b[0m\u001b[1;31m:\u001b[0m invalid syntax\n"
     ]
    }
   ],
   "source": [
    "Faire plusieurs simulations. Expliquer ce qu'affiche le programme."
   ]
  },
  {
   "cell_type": "raw",
   "metadata": {},
   "source": [
    "Réponse : le programme affiche le déplacement entre les pages"
   ]
  },
  {
   "cell_type": "markdown",
   "metadata": {},
   "source": [
    "----\n",
    "\n",
    "### Modifications du programme"
   ]
  },
  {
   "cell_type": "markdown",
   "metadata": {},
   "source": [
    "**3. Modifier** le programme ci-dessous pour qu'il sauvegarde dans la liste *nbVisites*, le nombre de passages dans la page E et affiche ce résultat."
   ]
  },
  {
   "cell_type": "code",
   "execution_count": null,
   "metadata": {},
   "outputs": [],
   "source": [
    "from random import choice\n",
    "# Liste des pages\n",
    "nom = [\"A\", \"B\", \"C\", \"D\", \"E\", \"F\"]\n",
    "# Les sous listes de la liste hyperliens représentent les flèches sur le graphe\n",
    "# Exemple : la page C à la position nom[2] est reliée\n",
    "# aux pages A, nom[0] et F, nom[5] d'où la sous liste [0,5]\n",
    "hyperliens =  [[4], [0, 4], [0, 5], [0, 4], [1, 2, 3, 5], [4]]\n",
    "nbDeplacements = 10  # on effectue nbDeplacements dans le graphe\n",
    "# Nombre de visites réalisées dans les pages A, B, C, D, E et F\n",
    "nbVisites = [0, 0, 0, 0, 0, 0]\n",
    "page = 0  # le départ est la page A (indice 0)\n",
    "for i in range(nbDeplacements):\n",
    "    page = choice(hyperliens[page])\n",
    "    print(\"Page actuelle : \" + nom[page])\n",
    "    if nom[page] == 'E':\n",
    "        nbVisites[4] += 1\n",
    "print(f\"On est passé {nbVisites[4]} fois par la page E\")"
   ]
  },
  {
   "cell_type": "markdown",
   "metadata": {},
   "source": [
    "4. **Compléter** le programme ci-dessous pour qu'il affiche maintenant le passage dans chacune des pages. "
   ]
  },
  {
   "cell_type": "code",
   "execution_count": null,
   "metadata": {},
   "outputs": [],
   "source": [
    "from random import choice\n",
    "# Liste des pages\n",
    "nom = [\"A\", \"B\", \"C\", \"D\", \"E\", \"F\"]\n",
    "# Les sous listes de la liste hyperliens représentent les flèches sur le graphe\n",
    "# Exemple : la page C à la position nom[2] est reliée\n",
    "# aux pages A, nom[0] et F, nom[5] d'où la sous liste [0,5]\n",
    "hyperliens =  [[4], [0, 4], [0, 5], [0, 4], [1, 2, 3, 5], [4]]\n",
    "nbDeplacements = 10  # on effectue nbDeplacements dans le graphe\n",
    "# Nombre de visites réalisées dans les pages A, B, C, D, E et F\n",
    "nbVisites = [0, 0, 0, 0, 0, 0]\n",
    "page = 0  # le départ est la page A (indice 0)\n",
    "for i in range(nbDeplacements):\n",
    "    page = choice(hyperliens[page])\n",
    "    print(\"Page actuelle : \" + nom[page])\n",
    "    if nom[page] == 'A':\n",
    "        nbVisites[0] += 1\n",
    "    elif nom[page] == 'B':\n",
    "        nbVisites[1] += 1\n",
    "    elif nom[page] == 'C':\n",
    "        nbVisites[2] += 1\n",
    "    elif nom[page] == 'D':\n",
    "        nbVisites[3] += 1\n",
    "    elif nom[page] == 'E':\n",
    "        nbVisites[4] += 1\n",
    "    elif nom[page] == 'F':\n",
    "        nbVisites[5] += 1\n",
    "for k in range(len(nom)):\n",
    "    print(f\"Visite de {nom[k]} : {nbVisites[k]}\")"
   ]
  },
  {
   "cell_type": "markdown",
   "metadata": {},
   "source": [
    "5. **Modifier** le programme ci-dessous pour qu'il calcule le score en pourcentage. "
   ]
  },
  {
   "cell_type": "code",
   "execution_count": null,
   "metadata": {},
   "outputs": [],
   "source": [
    "from random import choice\n",
    "# Liste des pages\n",
    "nom = [\"A\", \"B\", \"C\", \"D\", \"E\", \"F\"]\n",
    "# Les sous listes de la liste hyperliens représentent les flèches sur le graphe\n",
    "# Exemple : la page C à la position nom[2] est reliée\n",
    "# aux pages A, nom[0] et F, nom[5] d'où la sous liste [0,5]\n",
    "hyperliens =  [[4], [0, 4], [0, 5], [0, 4], [1, 2, 3, 5], [4]]\n",
    "nbDeplacements = 100000  # on effetue nbDeplacements dans le graphe\n",
    "# Nombre de visites réalisées dans les pages A, B, C, D, E et F\n",
    "nbVisites = [0, 0, 0, 0, 0, 0]\n",
    "page = 0  # le départ est la page A (indice 0)\n",
    "for i in range(nbDeplacements):\n",
    "    page = choice(hyperliens[page])\n",
    "    # print(\"Page actuelle : \" + nom[page])\n",
    "    if nom[page] == 'A':\n",
    "        nbVisites[0] += 1\n",
    "    elif nom[page] == 'B':\n",
    "        nbVisites[1] += 1\n",
    "    elif nom[page] == 'C':\n",
    "        nbVisites[2] += 1\n",
    "    elif nom[page] == 'D':\n",
    "        nbVisites[3] += 1\n",
    "    elif nom[page] == 'E':\n",
    "        nbVisites[4] += 1\n",
    "    elif nom[page] == 'F':\n",
    "        nbVisites[5] += 1\n",
    "nbVisites = [100*j/nbDeplacements for j in nbVisites]\n",
    "for k in range(len(nom)):\n",
    "    print(f\"Visite de {nom[k]} : {nbVisites[k]} %\")    "
   ]
  },
  {
   "cell_type": "markdown",
   "metadata": {},
   "source": [
    "**6. Mettre** *print(\"Page actuelle : \" + nom[page])* en commentaire. Faire des tests pour *nbDeplacements* = 100, 1000 et 10000."
   ]
  },
  {
   "cell_type": "code",
   "execution_count": null,
   "metadata": {},
   "outputs": [],
   "source": []
  }
 ],
 "metadata": {
  "kernelspec": {
   "display_name": "Python 3",
   "language": "python",
   "name": "python3"
  },
  "language_info": {
   "codemirror_mode": {
    "name": "ipython",
    "version": 3
   },
   "file_extension": ".py",
   "mimetype": "text/x-python",
   "name": "python",
   "nbconvert_exporter": "python",
   "pygments_lexer": "ipython3",
   "version": "3.7.1"
  }
 },
 "nbformat": 4,
 "nbformat_minor": 2
}
